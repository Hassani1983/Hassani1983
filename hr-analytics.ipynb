{
 "cells": [
  {
   "cell_type": "code",
   "execution_count": 1,
   "id": "2102ee23",
   "metadata": {
    "_cell_guid": "b1076dfc-b9ad-4769-8c92-a6c4dae69d19",
    "_uuid": "8f2839f25d086af736a60e9eeb907d3b93b6e0e5",
    "execution": {
     "iopub.execute_input": "2021-09-05T02:36:07.897757Z",
     "iopub.status.busy": "2021-09-05T02:36:07.896564Z",
     "iopub.status.idle": "2021-09-05T02:36:09.023719Z",
     "shell.execute_reply": "2021-09-05T02:36:09.022777Z",
     "shell.execute_reply.started": "2021-09-05T01:44:44.779564Z"
    },
    "papermill": {
     "duration": 1.164665,
     "end_time": "2021-09-05T02:36:09.023941",
     "exception": false,
     "start_time": "2021-09-05T02:36:07.859276",
     "status": "completed"
    },
    "tags": []
   },
   "outputs": [
    {
     "name": "stdout",
     "output_type": "stream",
     "text": [
      "/kaggle/input/dataset-hr/HR.csv\n"
     ]
    }
   ],
   "source": [
    "# Writed By Mostafa Hassani\n",
    "# Version 1\n",
    "\n",
    "import numpy as np # linear algebra\n",
    "import pandas as pd # data processing, CSV file I/O (e.g. pd.read_csv)\n",
    "import matplotlib.pyplot as plt\n",
    "import seaborn as sns\n",
    "\n",
    "from bidi.algorithm import get_display\n",
    "#from arabic_reshaper import reshape\n",
    "\n",
    "import warnings\n",
    "warnings.filterwarnings(\"ignore\")\n",
    "import os\n",
    "for dirname, _, filenames in os.walk('/kaggle/input'):\n",
    "    for filename in filenames:\n",
    "        print(os.path.join(dirname, filename))"
   ]
  },
  {
   "cell_type": "code",
   "execution_count": 2,
   "id": "dab5791a",
   "metadata": {
    "execution": {
     "iopub.execute_input": "2021-09-05T02:36:09.098119Z",
     "iopub.status.busy": "2021-09-05T02:36:09.097307Z",
     "iopub.status.idle": "2021-09-05T02:36:09.136585Z",
     "shell.execute_reply": "2021-09-05T02:36:09.135898Z",
     "shell.execute_reply.started": "2021-09-05T01:44:44.796604Z"
    },
    "papermill": {
     "duration": 0.077621,
     "end_time": "2021-09-05T02:36:09.136734",
     "exception": false,
     "start_time": "2021-09-05T02:36:09.059113",
     "status": "completed"
    },
    "tags": []
   },
   "outputs": [],
   "source": [
    "DF_HR  = pd.read_csv(\"/kaggle/input/dataset-hr/HR.csv\")"
   ]
  },
  {
   "cell_type": "code",
   "execution_count": 3,
   "id": "c69f6787",
   "metadata": {
    "execution": {
     "iopub.execute_input": "2021-09-05T02:36:09.215105Z",
     "iopub.status.busy": "2021-09-05T02:36:09.214389Z",
     "iopub.status.idle": "2021-09-05T02:36:09.237782Z",
     "shell.execute_reply": "2021-09-05T02:36:09.238301Z",
     "shell.execute_reply.started": "2021-09-05T01:44:44.832554Z"
    },
    "papermill": {
     "duration": 0.068905,
     "end_time": "2021-09-05T02:36:09.238492",
     "exception": false,
     "start_time": "2021-09-05T02:36:09.169587",
     "status": "completed"
    },
    "tags": []
   },
   "outputs": [
    {
     "data": {
      "text/html": [
       "<div>\n",
       "<style scoped>\n",
       "    .dataframe tbody tr th:only-of-type {\n",
       "        vertical-align: middle;\n",
       "    }\n",
       "\n",
       "    .dataframe tbody tr th {\n",
       "        vertical-align: top;\n",
       "    }\n",
       "\n",
       "    .dataframe thead th {\n",
       "        text-align: right;\n",
       "    }\n",
       "</style>\n",
       "<table border=\"1\" class=\"dataframe\">\n",
       "  <thead>\n",
       "    <tr style=\"text-align: right;\">\n",
       "      <th></th>\n",
       "      <th>satisfaction_level</th>\n",
       "      <th>last_evaluation</th>\n",
       "      <th>number_project</th>\n",
       "      <th>average_montly_hours</th>\n",
       "      <th>time_spend_company</th>\n",
       "      <th>Work_accident</th>\n",
       "      <th>left</th>\n",
       "      <th>promotion_last_5years</th>\n",
       "      <th>department</th>\n",
       "      <th>salary</th>\n",
       "    </tr>\n",
       "  </thead>\n",
       "  <tbody>\n",
       "    <tr>\n",
       "      <th>0</th>\n",
       "      <td>0.38</td>\n",
       "      <td>0.53</td>\n",
       "      <td>2</td>\n",
       "      <td>157</td>\n",
       "      <td>3</td>\n",
       "      <td>0</td>\n",
       "      <td>1</td>\n",
       "      <td>0</td>\n",
       "      <td>sales</td>\n",
       "      <td>low</td>\n",
       "    </tr>\n",
       "    <tr>\n",
       "      <th>1</th>\n",
       "      <td>0.80</td>\n",
       "      <td>0.86</td>\n",
       "      <td>5</td>\n",
       "      <td>262</td>\n",
       "      <td>6</td>\n",
       "      <td>0</td>\n",
       "      <td>1</td>\n",
       "      <td>0</td>\n",
       "      <td>sales</td>\n",
       "      <td>medium</td>\n",
       "    </tr>\n",
       "    <tr>\n",
       "      <th>2</th>\n",
       "      <td>0.11</td>\n",
       "      <td>0.88</td>\n",
       "      <td>7</td>\n",
       "      <td>272</td>\n",
       "      <td>4</td>\n",
       "      <td>0</td>\n",
       "      <td>1</td>\n",
       "      <td>0</td>\n",
       "      <td>sales</td>\n",
       "      <td>medium</td>\n",
       "    </tr>\n",
       "    <tr>\n",
       "      <th>3</th>\n",
       "      <td>0.72</td>\n",
       "      <td>0.87</td>\n",
       "      <td>5</td>\n",
       "      <td>223</td>\n",
       "      <td>5</td>\n",
       "      <td>0</td>\n",
       "      <td>1</td>\n",
       "      <td>0</td>\n",
       "      <td>sales</td>\n",
       "      <td>low</td>\n",
       "    </tr>\n",
       "    <tr>\n",
       "      <th>4</th>\n",
       "      <td>0.37</td>\n",
       "      <td>0.52</td>\n",
       "      <td>2</td>\n",
       "      <td>159</td>\n",
       "      <td>3</td>\n",
       "      <td>0</td>\n",
       "      <td>1</td>\n",
       "      <td>0</td>\n",
       "      <td>sales</td>\n",
       "      <td>low</td>\n",
       "    </tr>\n",
       "  </tbody>\n",
       "</table>\n",
       "</div>"
      ],
      "text/plain": [
       "   satisfaction_level  last_evaluation  number_project  average_montly_hours  \\\n",
       "0                0.38             0.53               2                   157   \n",
       "1                0.80             0.86               5                   262   \n",
       "2                0.11             0.88               7                   272   \n",
       "3                0.72             0.87               5                   223   \n",
       "4                0.37             0.52               2                   159   \n",
       "\n",
       "   time_spend_company  Work_accident  left  promotion_last_5years department  \\\n",
       "0                   3              0     1                      0      sales   \n",
       "1                   6              0     1                      0      sales   \n",
       "2                   4              0     1                      0      sales   \n",
       "3                   5              0     1                      0      sales   \n",
       "4                   3              0     1                      0      sales   \n",
       "\n",
       "   salary  \n",
       "0     low  \n",
       "1  medium  \n",
       "2  medium  \n",
       "3     low  \n",
       "4     low  "
      ]
     },
     "execution_count": 3,
     "metadata": {},
     "output_type": "execute_result"
    }
   ],
   "source": [
    "DF_HR.head()"
   ]
  },
  {
   "cell_type": "code",
   "execution_count": 4,
   "id": "0a568b9d",
   "metadata": {
    "execution": {
     "iopub.execute_input": "2021-09-05T02:36:09.310884Z",
     "iopub.status.busy": "2021-09-05T02:36:09.309879Z",
     "iopub.status.idle": "2021-09-05T02:36:09.336513Z",
     "shell.execute_reply": "2021-09-05T02:36:09.337280Z",
     "shell.execute_reply.started": "2021-09-05T01:44:44.853119Z"
    },
    "papermill": {
     "duration": 0.065653,
     "end_time": "2021-09-05T02:36:09.337558",
     "exception": false,
     "start_time": "2021-09-05T02:36:09.271905",
     "status": "completed"
    },
    "tags": []
   },
   "outputs": [
    {
     "name": "stdout",
     "output_type": "stream",
     "text": [
      "<class 'pandas.core.frame.DataFrame'>\n",
      "RangeIndex: 14999 entries, 0 to 14998\n",
      "Data columns (total 10 columns):\n",
      " #   Column                 Non-Null Count  Dtype  \n",
      "---  ------                 --------------  -----  \n",
      " 0   satisfaction_level     14999 non-null  float64\n",
      " 1   last_evaluation        14999 non-null  float64\n",
      " 2   number_project         14999 non-null  int64  \n",
      " 3   average_montly_hours   14999 non-null  int64  \n",
      " 4   time_spend_company     14999 non-null  int64  \n",
      " 5   Work_accident          14999 non-null  int64  \n",
      " 6   left                   14999 non-null  int64  \n",
      " 7   promotion_last_5years  14999 non-null  int64  \n",
      " 8   department             14999 non-null  object \n",
      " 9   salary                 14999 non-null  object \n",
      "dtypes: float64(2), int64(6), object(2)\n",
      "memory usage: 1.1+ MB\n"
     ]
    }
   ],
   "source": [
    "DF_HR.info()"
   ]
  },
  {
   "cell_type": "code",
   "execution_count": 5,
   "id": "debb48e2",
   "metadata": {
    "execution": {
     "iopub.execute_input": "2021-09-05T02:36:09.411866Z",
     "iopub.status.busy": "2021-09-05T02:36:09.411174Z",
     "iopub.status.idle": "2021-09-05T02:36:09.456928Z",
     "shell.execute_reply": "2021-09-05T02:36:09.456271Z",
     "shell.execute_reply.started": "2021-09-05T01:44:44.883557Z"
    },
    "papermill": {
     "duration": 0.084286,
     "end_time": "2021-09-05T02:36:09.457080",
     "exception": false,
     "start_time": "2021-09-05T02:36:09.372794",
     "status": "completed"
    },
    "tags": []
   },
   "outputs": [
    {
     "data": {
      "text/html": [
       "<div>\n",
       "<style scoped>\n",
       "    .dataframe tbody tr th:only-of-type {\n",
       "        vertical-align: middle;\n",
       "    }\n",
       "\n",
       "    .dataframe tbody tr th {\n",
       "        vertical-align: top;\n",
       "    }\n",
       "\n",
       "    .dataframe thead th {\n",
       "        text-align: right;\n",
       "    }\n",
       "</style>\n",
       "<table border=\"1\" class=\"dataframe\">\n",
       "  <thead>\n",
       "    <tr style=\"text-align: right;\">\n",
       "      <th></th>\n",
       "      <th>count</th>\n",
       "      <th>mean</th>\n",
       "      <th>std</th>\n",
       "      <th>min</th>\n",
       "      <th>25%</th>\n",
       "      <th>50%</th>\n",
       "      <th>75%</th>\n",
       "      <th>max</th>\n",
       "    </tr>\n",
       "  </thead>\n",
       "  <tbody>\n",
       "    <tr>\n",
       "      <th>satisfaction_level</th>\n",
       "      <td>14999.0</td>\n",
       "      <td>0.612834</td>\n",
       "      <td>0.248631</td>\n",
       "      <td>0.09</td>\n",
       "      <td>0.44</td>\n",
       "      <td>0.64</td>\n",
       "      <td>0.82</td>\n",
       "      <td>1.0</td>\n",
       "    </tr>\n",
       "    <tr>\n",
       "      <th>last_evaluation</th>\n",
       "      <td>14999.0</td>\n",
       "      <td>0.716102</td>\n",
       "      <td>0.171169</td>\n",
       "      <td>0.36</td>\n",
       "      <td>0.56</td>\n",
       "      <td>0.72</td>\n",
       "      <td>0.87</td>\n",
       "      <td>1.0</td>\n",
       "    </tr>\n",
       "    <tr>\n",
       "      <th>number_project</th>\n",
       "      <td>14999.0</td>\n",
       "      <td>3.803054</td>\n",
       "      <td>1.232592</td>\n",
       "      <td>2.00</td>\n",
       "      <td>3.00</td>\n",
       "      <td>4.00</td>\n",
       "      <td>5.00</td>\n",
       "      <td>7.0</td>\n",
       "    </tr>\n",
       "    <tr>\n",
       "      <th>average_montly_hours</th>\n",
       "      <td>14999.0</td>\n",
       "      <td>201.050337</td>\n",
       "      <td>49.943099</td>\n",
       "      <td>96.00</td>\n",
       "      <td>156.00</td>\n",
       "      <td>200.00</td>\n",
       "      <td>245.00</td>\n",
       "      <td>310.0</td>\n",
       "    </tr>\n",
       "    <tr>\n",
       "      <th>time_spend_company</th>\n",
       "      <td>14999.0</td>\n",
       "      <td>3.498233</td>\n",
       "      <td>1.460136</td>\n",
       "      <td>2.00</td>\n",
       "      <td>3.00</td>\n",
       "      <td>3.00</td>\n",
       "      <td>4.00</td>\n",
       "      <td>10.0</td>\n",
       "    </tr>\n",
       "    <tr>\n",
       "      <th>Work_accident</th>\n",
       "      <td>14999.0</td>\n",
       "      <td>0.144610</td>\n",
       "      <td>0.351719</td>\n",
       "      <td>0.00</td>\n",
       "      <td>0.00</td>\n",
       "      <td>0.00</td>\n",
       "      <td>0.00</td>\n",
       "      <td>1.0</td>\n",
       "    </tr>\n",
       "    <tr>\n",
       "      <th>left</th>\n",
       "      <td>14999.0</td>\n",
       "      <td>0.238083</td>\n",
       "      <td>0.425924</td>\n",
       "      <td>0.00</td>\n",
       "      <td>0.00</td>\n",
       "      <td>0.00</td>\n",
       "      <td>0.00</td>\n",
       "      <td>1.0</td>\n",
       "    </tr>\n",
       "    <tr>\n",
       "      <th>promotion_last_5years</th>\n",
       "      <td>14999.0</td>\n",
       "      <td>0.021268</td>\n",
       "      <td>0.144281</td>\n",
       "      <td>0.00</td>\n",
       "      <td>0.00</td>\n",
       "      <td>0.00</td>\n",
       "      <td>0.00</td>\n",
       "      <td>1.0</td>\n",
       "    </tr>\n",
       "  </tbody>\n",
       "</table>\n",
       "</div>"
      ],
      "text/plain": [
       "                         count        mean        std    min     25%     50%  \\\n",
       "satisfaction_level     14999.0    0.612834   0.248631   0.09    0.44    0.64   \n",
       "last_evaluation        14999.0    0.716102   0.171169   0.36    0.56    0.72   \n",
       "number_project         14999.0    3.803054   1.232592   2.00    3.00    4.00   \n",
       "average_montly_hours   14999.0  201.050337  49.943099  96.00  156.00  200.00   \n",
       "time_spend_company     14999.0    3.498233   1.460136   2.00    3.00    3.00   \n",
       "Work_accident          14999.0    0.144610   0.351719   0.00    0.00    0.00   \n",
       "left                   14999.0    0.238083   0.425924   0.00    0.00    0.00   \n",
       "promotion_last_5years  14999.0    0.021268   0.144281   0.00    0.00    0.00   \n",
       "\n",
       "                          75%    max  \n",
       "satisfaction_level       0.82    1.0  \n",
       "last_evaluation          0.87    1.0  \n",
       "number_project           5.00    7.0  \n",
       "average_montly_hours   245.00  310.0  \n",
       "time_spend_company       4.00   10.0  \n",
       "Work_accident            0.00    1.0  \n",
       "left                     0.00    1.0  \n",
       "promotion_last_5years    0.00    1.0  "
      ]
     },
     "execution_count": 5,
     "metadata": {},
     "output_type": "execute_result"
    }
   ],
   "source": [
    "DF_HR.describe().T"
   ]
  },
  {
   "cell_type": "code",
   "execution_count": 6,
   "id": "d5556ad6",
   "metadata": {
    "execution": {
     "iopub.execute_input": "2021-09-05T02:36:09.535108Z",
     "iopub.status.busy": "2021-09-05T02:36:09.534051Z",
     "iopub.status.idle": "2021-09-05T02:36:09.554597Z",
     "shell.execute_reply": "2021-09-05T02:36:09.555476Z",
     "shell.execute_reply.started": "2021-09-05T01:44:44.934753Z"
    },
    "papermill": {
     "duration": 0.062315,
     "end_time": "2021-09-05T02:36:09.555835",
     "exception": false,
     "start_time": "2021-09-05T02:36:09.493520",
     "status": "completed"
    },
    "tags": []
   },
   "outputs": [
    {
     "name": "stdout",
     "output_type": "stream",
     "text": [
      "Uniques Data Of satisfaction_level is : \n",
      "[0.09 0.1  0.11 0.12 0.13 0.14 0.15 0.16 0.17 0.18 0.19 0.2  0.21 0.22\n",
      " 0.23 0.24 0.25 0.26 0.27 0.28 0.29 0.3  0.31 0.32 0.33 0.34 0.35 0.36\n",
      " 0.37 0.38 0.39 0.4  0.41 0.42 0.43 0.44 0.45 0.46 0.47 0.48 0.49 0.5\n",
      " 0.51 0.52 0.53 0.54 0.55 0.56 0.57 0.58 0.59 0.6  0.61 0.62 0.63 0.64\n",
      " 0.65 0.66 0.67 0.68 0.69 0.7  0.71 0.72 0.73 0.74 0.75 0.76 0.77 0.78\n",
      " 0.79 0.8  0.81 0.82 0.83 0.84 0.85 0.86 0.87 0.88 0.89 0.9  0.91 0.92\n",
      " 0.93 0.94 0.95 0.96 0.97 0.98 0.99 1.  ]\n",
      "\n",
      "Uniques Data Of last_evaluation is : \n",
      "[0.36 0.37 0.38 0.39 0.4  0.41 0.42 0.43 0.44 0.45 0.46 0.47 0.48 0.49\n",
      " 0.5  0.51 0.52 0.53 0.54 0.55 0.56 0.57 0.58 0.59 0.6  0.61 0.62 0.63\n",
      " 0.64 0.65 0.66 0.67 0.68 0.69 0.7  0.71 0.72 0.73 0.74 0.75 0.76 0.77\n",
      " 0.78 0.79 0.8  0.81 0.82 0.83 0.84 0.85 0.86 0.87 0.88 0.89 0.9  0.91\n",
      " 0.92 0.93 0.94 0.95 0.96 0.97 0.98 0.99 1.  ]\n",
      "\n",
      "Uniques Data Of number_project is : \n",
      "[2 3 4 5 6 7]\n",
      "\n",
      "Uniques Data Of average_montly_hours is : \n",
      "[ 96  97  98  99 100 101 102 103 104 105 106 107 108 109 110 111 112 113\n",
      " 114 115 116 117 118 119 120 121 122 123 124 125 126 127 128 129 130 131\n",
      " 132 133 134 135 136 137 138 139 140 141 142 143 144 145 146 147 148 149\n",
      " 150 151 152 153 154 155 156 157 158 159 160 161 162 163 164 165 166 167\n",
      " 168 169 170 171 172 173 174 175 176 177 178 179 180 181 182 183 184 185\n",
      " 186 187 188 189 190 191 192 193 194 195 196 197 198 199 200 201 202 203\n",
      " 204 205 206 207 208 209 210 211 212 213 214 215 216 217 218 219 220 221\n",
      " 222 223 224 225 226 227 228 229 230 231 232 233 234 235 236 237 238 239\n",
      " 240 241 242 243 244 245 246 247 248 249 250 251 252 253 254 255 256 257\n",
      " 258 259 260 261 262 263 264 265 266 267 268 269 270 271 272 273 274 275\n",
      " 276 277 278 279 280 281 282 283 284 285 286 287 288 289 290 291 292 293\n",
      " 294 295 296 297 298 299 300 301 302 303 304 305 306 307 308 309 310]\n",
      "\n",
      "Uniques Data Of time_spend_company is : \n",
      "[ 2  3  4  5  6  7  8 10]\n",
      "\n",
      "Uniques Data Of Work_accident is : \n",
      "[0 1]\n",
      "\n",
      "Uniques Data Of left is : \n",
      "[0 1]\n",
      "\n",
      "Uniques Data Of promotion_last_5years is : \n",
      "[0 1]\n",
      "\n",
      "Uniques Data Of department is : \n",
      "['IT' 'RandD' 'accounting' 'hr' 'management' 'marketing' 'product_mng'\n",
      " 'sales' 'support' 'technical']\n",
      "\n",
      "Uniques Data Of salary is : \n",
      "['high' 'low' 'medium']\n",
      "\n"
     ]
    }
   ],
   "source": [
    "Columns = DF_HR.columns\n",
    "for Col in Columns:\n",
    "    Uniques = DF_HR[Col].unique()\n",
    "    print(\"Uniques Data Of {} is : \".format(Col))\n",
    "    print(np.sort(Uniques))\n",
    "    print()    "
   ]
  },
  {
   "cell_type": "code",
   "execution_count": 7,
   "id": "1810dd59",
   "metadata": {
    "execution": {
     "iopub.execute_input": "2021-09-05T02:36:09.635015Z",
     "iopub.status.busy": "2021-09-05T02:36:09.634158Z",
     "iopub.status.idle": "2021-09-05T02:36:09.830422Z",
     "shell.execute_reply": "2021-09-05T02:36:09.829395Z",
     "shell.execute_reply.started": "2021-09-05T01:44:44.958546Z"
    },
    "papermill": {
     "duration": 0.240028,
     "end_time": "2021-09-05T02:36:09.830640",
     "exception": false,
     "start_time": "2021-09-05T02:36:09.590612",
     "status": "completed"
    },
    "tags": []
   },
   "outputs": [
    {
     "data": {
      "text/plain": [
       "<AxesSubplot:ylabel='salary'>"
      ]
     },
     "execution_count": 7,
     "metadata": {},
     "output_type": "execute_result"
    },
    {
     "data": {
      "image/png": "[encoded data removed]",
      "text/plain": [
       "<Figure size 432x288 with 1 Axes>"
      ]
     },
     "metadata": {},
     "output_type": "display_data"
    }
   ],
   "source": [
    "pd.value_counts(DF_HR['salary']).plot.pie()"
   ]
  },
  {
   "cell_type": "code",
   "execution_count": 8,
   "id": "6d434d79",
   "metadata": {
    "execution": {
     "iopub.execute_input": "2021-09-05T02:36:09.909038Z",
     "iopub.status.busy": "2021-09-05T02:36:09.908301Z",
     "iopub.status.idle": "2021-09-05T02:36:09.911382Z",
     "shell.execute_reply": "2021-09-05T02:36:09.910819Z",
     "shell.execute_reply.started": "2021-09-05T01:44:45.063126Z"
    },
    "papermill": {
     "duration": 0.044545,
     "end_time": "2021-09-05T02:36:09.911524",
     "exception": false,
     "start_time": "2021-09-05T02:36:09.866979",
     "status": "completed"
    },
    "tags": []
   },
   "outputs": [],
   "source": [
    "def Bar_Lable(plot,N_Fraction):\n",
    "    for p in plot.patches:\n",
    "        plot.annotate(format(p.get_height(), N_Fraction), \n",
    "                      (p.get_x() + p.get_width() / 2, p.get_height()+(p.get_height()/50)),\n",
    "                      ha='center', va='center')"
   ]
  },
  {
   "cell_type": "markdown",
   "id": "cc74ed43",
   "metadata": {
    "papermill": {
     "duration": 0.035033,
     "end_time": "2021-09-05T02:36:09.981972",
     "exception": false,
     "start_time": "2021-09-05T02:36:09.946939",
     "status": "completed"
    },
    "tags": []
   },
   "source": [
    "# **Number of people hired based on salary level**"
   ]
  },
  {
   "cell_type": "code",
   "execution_count": 9,
   "id": "140ad68e",
   "metadata": {
    "execution": {
     "iopub.execute_input": "2021-09-05T02:36:10.059367Z",
     "iopub.status.busy": "2021-09-05T02:36:10.058713Z",
     "iopub.status.idle": "2021-09-05T02:36:10.245747Z",
     "shell.execute_reply": "2021-09-05T02:36:10.245162Z",
     "shell.execute_reply.started": "2021-09-05T01:45:01.373622Z"
    },
    "papermill": {
     "duration": 0.227814,
     "end_time": "2021-09-05T02:36:10.245896",
     "exception": false,
     "start_time": "2021-09-05T02:36:10.018082",
     "status": "completed"
    },
    "tags": []
   },
   "outputs": [
    {
     "data": {
      "image/png": "[encoded data removed]",
      "text/plain": [
       "<Figure size 576x576 with 1 Axes>"
      ]
     },
     "metadata": {
      "needs_background": "light"
     },
     "output_type": "display_data"
    }
   ],
   "source": [
    "plt.figure(figsize=(8, 8))\n",
    "Plot = sns.countplot(x='salary', data=DF_HR)\n",
    "Bar_Lable(Plot,'.0f')"
   ]
  },
  {
   "cell_type": "markdown",
   "id": "387e182e",
   "metadata": {
    "papermill": {
     "duration": 0.037253,
     "end_time": "2021-09-05T02:36:10.320209",
     "exception": false,
     "start_time": "2021-09-05T02:36:10.282956",
     "status": "completed"
    },
    "tags": []
   },
   "source": [
    "# **Number of people employed in each department**"
   ]
  },
  {
   "cell_type": "code",
   "execution_count": 10,
   "id": "cf40ee0a",
   "metadata": {
    "execution": {
     "iopub.execute_input": "2021-09-05T02:36:10.419936Z",
     "iopub.status.busy": "2021-09-05T02:36:10.418876Z",
     "iopub.status.idle": "2021-09-05T02:36:10.705476Z",
     "shell.execute_reply": "2021-09-05T02:36:10.705963Z",
     "shell.execute_reply.started": "2021-09-05T01:46:17.823877Z"
    },
    "papermill": {
     "duration": 0.347304,
     "end_time": "2021-09-05T02:36:10.706151",
     "exception": false,
     "start_time": "2021-09-05T02:36:10.358847",
     "status": "completed"
    },
    "tags": []
   },
   "outputs": [
    {
     "data": {
      "image/png": "[encoded data removed]",
      "text/plain": [
       "<Figure size 1080x432 with 1 Axes>"
      ]
     },
     "metadata": {
      "needs_background": "light"
     },
     "output_type": "display_data"
    }
   ],
   "source": [
    "plt.figure(figsize=(15, 6))\n",
    "Plot = sns.countplot(x='department', data=DF_HR)\n",
    "Plot.set_xticklabels(Plot.get_xticklabels(), rotation=45)\n",
    "Bar_Lable(Plot,'.0f')"
   ]
  },
  {
   "cell_type": "markdown",
   "id": "a680ef81",
   "metadata": {
    "papermill": {
     "duration": 0.038374,
     "end_time": "2021-09-05T02:36:10.782136",
     "exception": false,
     "start_time": "2021-09-05T02:36:10.743762",
     "status": "completed"
    },
    "tags": []
   },
   "source": [
    "# **Number of people hired based on salary level and type of department**"
   ]
  },
  {
   "cell_type": "code",
   "execution_count": 11,
   "id": "e0b1d2d2",
   "metadata": {
    "execution": {
     "iopub.execute_input": "2021-09-05T02:36:10.876444Z",
     "iopub.status.busy": "2021-09-05T02:36:10.875754Z",
     "iopub.status.idle": "2021-09-05T02:36:11.469791Z",
     "shell.execute_reply": "2021-09-05T02:36:11.469204Z",
     "shell.execute_reply.started": "2021-09-05T01:47:21.810540Z"
    },
    "papermill": {
     "duration": 0.649886,
     "end_time": "2021-09-05T02:36:11.469950",
     "exception": false,
     "start_time": "2021-09-05T02:36:10.820064",
     "status": "completed"
    },
    "tags": []
   },
   "outputs": [
    {
     "data": {
      "image/png": "[encoded data removed]",
      "text/plain": [
       "<Figure size 1080x432 with 1 Axes>"
      ]
     },
     "metadata": {
      "needs_background": "light"
     },
     "output_type": "display_data"
    }
   ],
   "source": [
    "plt.figure(figsize=(15, 6))\n",
    "Plot = sns.countplot(x='department', data=DF_HR, hue='salary')\n",
    "Plot.set_xticklabels(Plot.get_xticklabels(), rotation=45)\n",
    "Bar_Lable(Plot,'.0f')"
   ]
  },
  {
   "cell_type": "markdown",
   "id": "bd0d98bc",
   "metadata": {
    "papermill": {
     "duration": 0.039408,
     "end_time": "2021-09-05T02:36:11.550792",
     "exception": false,
     "start_time": "2021-09-05T02:36:11.511384",
     "status": "completed"
    },
    "tags": []
   },
   "source": [
    "# *Maximum number of projects that personnel who have resigned did, based on satisfaction level*"
   ]
  },
  {
   "cell_type": "code",
   "execution_count": 12,
   "id": "d6bd0442",
   "metadata": {
    "execution": {
     "iopub.execute_input": "2021-09-05T02:36:11.640473Z",
     "iopub.status.busy": "2021-09-05T02:36:11.638786Z",
     "iopub.status.idle": "2021-09-05T02:36:11.667927Z",
     "shell.execute_reply": "2021-09-05T02:36:11.667315Z",
     "shell.execute_reply.started": "2021-09-05T01:48:56.380105Z"
    },
    "papermill": {
     "duration": 0.077176,
     "end_time": "2021-09-05T02:36:11.668095",
     "exception": false,
     "start_time": "2021-09-05T02:36:11.590919",
     "status": "completed"
    },
    "tags": []
   },
   "outputs": [
    {
     "data": {
      "text/html": [
       "<div>\n",
       "<style scoped>\n",
       "    .dataframe tbody tr th:only-of-type {\n",
       "        vertical-align: middle;\n",
       "    }\n",
       "\n",
       "    .dataframe tbody tr th {\n",
       "        vertical-align: top;\n",
       "    }\n",
       "\n",
       "    .dataframe thead th {\n",
       "        text-align: right;\n",
       "    }\n",
       "</style>\n",
       "<table border=\"1\" class=\"dataframe\">\n",
       "  <thead>\n",
       "    <tr style=\"text-align: right;\">\n",
       "      <th></th>\n",
       "      <th>satisfaction_level</th>\n",
       "      <th>last_evaluation</th>\n",
       "      <th>number_project</th>\n",
       "      <th>average_montly_hours</th>\n",
       "      <th>time_spend_company</th>\n",
       "      <th>Work_accident</th>\n",
       "      <th>left</th>\n",
       "      <th>promotion_last_5years</th>\n",
       "      <th>department</th>\n",
       "      <th>salary</th>\n",
       "    </tr>\n",
       "  </thead>\n",
       "  <tbody>\n",
       "    <tr>\n",
       "      <th>4553</th>\n",
       "      <td>1.00</td>\n",
       "      <td>0.76</td>\n",
       "      <td>6</td>\n",
       "      <td>246</td>\n",
       "      <td>3</td>\n",
       "      <td>1</td>\n",
       "      <td>0</td>\n",
       "      <td>1</td>\n",
       "      <td>support</td>\n",
       "      <td>medium</td>\n",
       "    </tr>\n",
       "    <tr>\n",
       "      <th>8411</th>\n",
       "      <td>1.00</td>\n",
       "      <td>0.61</td>\n",
       "      <td>6</td>\n",
       "      <td>270</td>\n",
       "      <td>3</td>\n",
       "      <td>0</td>\n",
       "      <td>0</td>\n",
       "      <td>0</td>\n",
       "      <td>sales</td>\n",
       "      <td>low</td>\n",
       "    </tr>\n",
       "    <tr>\n",
       "      <th>10878</th>\n",
       "      <td>1.00</td>\n",
       "      <td>0.88</td>\n",
       "      <td>6</td>\n",
       "      <td>201</td>\n",
       "      <td>4</td>\n",
       "      <td>0</td>\n",
       "      <td>0</td>\n",
       "      <td>0</td>\n",
       "      <td>technical</td>\n",
       "      <td>low</td>\n",
       "    </tr>\n",
       "    <tr>\n",
       "      <th>13089</th>\n",
       "      <td>1.00</td>\n",
       "      <td>0.88</td>\n",
       "      <td>6</td>\n",
       "      <td>201</td>\n",
       "      <td>4</td>\n",
       "      <td>0</td>\n",
       "      <td>0</td>\n",
       "      <td>0</td>\n",
       "      <td>technical</td>\n",
       "      <td>low</td>\n",
       "    </tr>\n",
       "    <tr>\n",
       "      <th>2292</th>\n",
       "      <td>0.99</td>\n",
       "      <td>0.75</td>\n",
       "      <td>6</td>\n",
       "      <td>139</td>\n",
       "      <td>5</td>\n",
       "      <td>1</td>\n",
       "      <td>0</td>\n",
       "      <td>0</td>\n",
       "      <td>technical</td>\n",
       "      <td>medium</td>\n",
       "    </tr>\n",
       "    <tr>\n",
       "      <th>2920</th>\n",
       "      <td>0.99</td>\n",
       "      <td>0.39</td>\n",
       "      <td>6</td>\n",
       "      <td>214</td>\n",
       "      <td>5</td>\n",
       "      <td>1</td>\n",
       "      <td>0</td>\n",
       "      <td>0</td>\n",
       "      <td>sales</td>\n",
       "      <td>low</td>\n",
       "    </tr>\n",
       "    <tr>\n",
       "      <th>4691</th>\n",
       "      <td>0.99</td>\n",
       "      <td>0.44</td>\n",
       "      <td>6</td>\n",
       "      <td>104</td>\n",
       "      <td>6</td>\n",
       "      <td>0</td>\n",
       "      <td>0</td>\n",
       "      <td>0</td>\n",
       "      <td>technical</td>\n",
       "      <td>low</td>\n",
       "    </tr>\n",
       "    <tr>\n",
       "      <th>4770</th>\n",
       "      <td>0.99</td>\n",
       "      <td>0.56</td>\n",
       "      <td>6</td>\n",
       "      <td>128</td>\n",
       "      <td>4</td>\n",
       "      <td>0</td>\n",
       "      <td>0</td>\n",
       "      <td>0</td>\n",
       "      <td>technical</td>\n",
       "      <td>medium</td>\n",
       "    </tr>\n",
       "    <tr>\n",
       "      <th>5650</th>\n",
       "      <td>0.99</td>\n",
       "      <td>0.82</td>\n",
       "      <td>6</td>\n",
       "      <td>185</td>\n",
       "      <td>4</td>\n",
       "      <td>1</td>\n",
       "      <td>0</td>\n",
       "      <td>0</td>\n",
       "      <td>sales</td>\n",
       "      <td>high</td>\n",
       "    </tr>\n",
       "    <tr>\n",
       "      <th>10371</th>\n",
       "      <td>0.99</td>\n",
       "      <td>0.37</td>\n",
       "      <td>6</td>\n",
       "      <td>219</td>\n",
       "      <td>6</td>\n",
       "      <td>0</td>\n",
       "      <td>0</td>\n",
       "      <td>0</td>\n",
       "      <td>product_mng</td>\n",
       "      <td>low</td>\n",
       "    </tr>\n",
       "    <tr>\n",
       "      <th>6332</th>\n",
       "      <td>0.98</td>\n",
       "      <td>0.53</td>\n",
       "      <td>6</td>\n",
       "      <td>253</td>\n",
       "      <td>4</td>\n",
       "      <td>0</td>\n",
       "      <td>0</td>\n",
       "      <td>0</td>\n",
       "      <td>RandD</td>\n",
       "      <td>medium</td>\n",
       "    </tr>\n",
       "    <tr>\n",
       "      <th>2419</th>\n",
       "      <td>0.97</td>\n",
       "      <td>0.66</td>\n",
       "      <td>6</td>\n",
       "      <td>164</td>\n",
       "      <td>5</td>\n",
       "      <td>0</td>\n",
       "      <td>0</td>\n",
       "      <td>0</td>\n",
       "      <td>support</td>\n",
       "      <td>low</td>\n",
       "    </tr>\n",
       "    <tr>\n",
       "      <th>8347</th>\n",
       "      <td>0.97</td>\n",
       "      <td>0.60</td>\n",
       "      <td>6</td>\n",
       "      <td>168</td>\n",
       "      <td>5</td>\n",
       "      <td>1</td>\n",
       "      <td>0</td>\n",
       "      <td>0</td>\n",
       "      <td>sales</td>\n",
       "      <td>high</td>\n",
       "    </tr>\n",
       "    <tr>\n",
       "      <th>9915</th>\n",
       "      <td>0.97</td>\n",
       "      <td>0.76</td>\n",
       "      <td>6</td>\n",
       "      <td>142</td>\n",
       "      <td>2</td>\n",
       "      <td>0</td>\n",
       "      <td>0</td>\n",
       "      <td>0</td>\n",
       "      <td>product_mng</td>\n",
       "      <td>low</td>\n",
       "    </tr>\n",
       "    <tr>\n",
       "      <th>11305</th>\n",
       "      <td>0.97</td>\n",
       "      <td>0.62</td>\n",
       "      <td>6</td>\n",
       "      <td>118</td>\n",
       "      <td>2</td>\n",
       "      <td>0</td>\n",
       "      <td>0</td>\n",
       "      <td>0</td>\n",
       "      <td>accounting</td>\n",
       "      <td>low</td>\n",
       "    </tr>\n",
       "    <tr>\n",
       "      <th>11930</th>\n",
       "      <td>0.97</td>\n",
       "      <td>0.92</td>\n",
       "      <td>6</td>\n",
       "      <td>137</td>\n",
       "      <td>8</td>\n",
       "      <td>1</td>\n",
       "      <td>0</td>\n",
       "      <td>0</td>\n",
       "      <td>product_mng</td>\n",
       "      <td>low</td>\n",
       "    </tr>\n",
       "    <tr>\n",
       "      <th>13516</th>\n",
       "      <td>0.97</td>\n",
       "      <td>0.62</td>\n",
       "      <td>6</td>\n",
       "      <td>118</td>\n",
       "      <td>2</td>\n",
       "      <td>0</td>\n",
       "      <td>0</td>\n",
       "      <td>0</td>\n",
       "      <td>accounting</td>\n",
       "      <td>low</td>\n",
       "    </tr>\n",
       "    <tr>\n",
       "      <th>14141</th>\n",
       "      <td>0.97</td>\n",
       "      <td>0.92</td>\n",
       "      <td>6</td>\n",
       "      <td>137</td>\n",
       "      <td>8</td>\n",
       "      <td>1</td>\n",
       "      <td>0</td>\n",
       "      <td>0</td>\n",
       "      <td>product_mng</td>\n",
       "      <td>low</td>\n",
       "    </tr>\n",
       "    <tr>\n",
       "      <th>2268</th>\n",
       "      <td>0.96</td>\n",
       "      <td>0.67</td>\n",
       "      <td>6</td>\n",
       "      <td>190</td>\n",
       "      <td>3</td>\n",
       "      <td>0</td>\n",
       "      <td>0</td>\n",
       "      <td>0</td>\n",
       "      <td>support</td>\n",
       "      <td>low</td>\n",
       "    </tr>\n",
       "    <tr>\n",
       "      <th>2279</th>\n",
       "      <td>0.96</td>\n",
       "      <td>0.45</td>\n",
       "      <td>6</td>\n",
       "      <td>232</td>\n",
       "      <td>2</td>\n",
       "      <td>1</td>\n",
       "      <td>0</td>\n",
       "      <td>0</td>\n",
       "      <td>product_mng</td>\n",
       "      <td>low</td>\n",
       "    </tr>\n",
       "  </tbody>\n",
       "</table>\n",
       "</div>"
      ],
      "text/plain": [
       "       satisfaction_level  last_evaluation  number_project  \\\n",
       "4553                 1.00             0.76               6   \n",
       "8411                 1.00             0.61               6   \n",
       "10878                1.00             0.88               6   \n",
       "13089                1.00             0.88               6   \n",
       "2292                 0.99             0.75               6   \n",
       "2920                 0.99             0.39               6   \n",
       "4691                 0.99             0.44               6   \n",
       "4770                 0.99             0.56               6   \n",
       "5650                 0.99             0.82               6   \n",
       "10371                0.99             0.37               6   \n",
       "6332                 0.98             0.53               6   \n",
       "2419                 0.97             0.66               6   \n",
       "8347                 0.97             0.60               6   \n",
       "9915                 0.97             0.76               6   \n",
       "11305                0.97             0.62               6   \n",
       "11930                0.97             0.92               6   \n",
       "13516                0.97             0.62               6   \n",
       "14141                0.97             0.92               6   \n",
       "2268                 0.96             0.67               6   \n",
       "2279                 0.96             0.45               6   \n",
       "\n",
       "       average_montly_hours  time_spend_company  Work_accident  left  \\\n",
       "4553                    246                   3              1     0   \n",
       "8411                    270                   3              0     0   \n",
       "10878                   201                   4              0     0   \n",
       "13089                   201                   4              0     0   \n",
       "2292                    139                   5              1     0   \n",
       "2920                    214                   5              1     0   \n",
       "4691                    104                   6              0     0   \n",
       "4770                    128                   4              0     0   \n",
       "5650                    185                   4              1     0   \n",
       "10371                   219                   6              0     0   \n",
       "6332                    253                   4              0     0   \n",
       "2419                    164                   5              0     0   \n",
       "8347                    168                   5              1     0   \n",
       "9915                    142                   2              0     0   \n",
       "11305                   118                   2              0     0   \n",
       "11930                   137                   8              1     0   \n",
       "13516                   118                   2              0     0   \n",
       "14141                   137                   8              1     0   \n",
       "2268                    190                   3              0     0   \n",
       "2279                    232                   2              1     0   \n",
       "\n",
       "       promotion_last_5years   department  salary  \n",
       "4553                       1      support  medium  \n",
       "8411                       0        sales     low  \n",
       "10878                      0    technical     low  \n",
       "13089                      0    technical     low  \n",
       "2292                       0    technical  medium  \n",
       "2920                       0        sales     low  \n",
       "4691                       0    technical     low  \n",
       "4770                       0    technical  medium  \n",
       "5650                       0        sales    high  \n",
       "10371                      0  product_mng     low  \n",
       "6332                       0        RandD  medium  \n",
       "2419                       0      support     low  \n",
       "8347                       0        sales    high  \n",
       "9915                       0  product_mng     low  \n",
       "11305                      0   accounting     low  \n",
       "11930                      0  product_mng     low  \n",
       "13516                      0   accounting     low  \n",
       "14141                      0  product_mng     low  \n",
       "2268                       0      support     low  \n",
       "2279                       0  product_mng     low  "
      ]
     },
     "execution_count": 12,
     "metadata": {},
     "output_type": "execute_result"
    }
   ],
   "source": [
    "DF_HR[DF_HR['left']==0].sort_values([\"number_project\",\"satisfaction_level\"],ascending=False).head(20)"
   ]
  },
  {
   "cell_type": "markdown",
   "id": "6da4db32",
   "metadata": {
    "papermill": {
     "duration": 0.0399,
     "end_time": "2021-09-05T02:36:11.747873",
     "exception": false,
     "start_time": "2021-09-05T02:36:11.707973",
     "status": "completed"
    },
    "tags": []
   },
   "source": [
    "# *The latest status of the evaluation of personnel who did not suffer a decline in the company in a downward direction*"
   ]
  },
  {
   "cell_type": "code",
   "execution_count": 13,
   "id": "c7ed7d24",
   "metadata": {
    "execution": {
     "iopub.execute_input": "2021-09-05T02:36:11.837833Z",
     "iopub.status.busy": "2021-09-05T02:36:11.836753Z",
     "iopub.status.idle": "2021-09-05T02:36:12.070249Z",
     "shell.execute_reply": "2021-09-05T02:36:12.069702Z",
     "shell.execute_reply.started": "2021-09-05T01:51:06.217637Z"
    },
    "papermill": {
     "duration": 0.282238,
     "end_time": "2021-09-05T02:36:12.070400",
     "exception": false,
     "start_time": "2021-09-05T02:36:11.788162",
     "status": "completed"
    },
    "tags": []
   },
   "outputs": [
    {
     "name": "stdout",
     "output_type": "stream",
     "text": [
      "0.36 ==> 1.0\n",
      "       last_evaluation\n",
      "11862              1.0\n",
      "4455               1.0\n",
      "11139              1.0\n",
      "9586               1.0\n",
      "8320               1.0\n",
      "3894               1.0\n",
      "11118              1.0\n",
      "14073              1.0\n",
      "9625               1.0\n",
      "6253               1.0\n",
      "13387              1.0\n",
      "3917               1.0\n",
      "7862               1.0\n",
      "10472              1.0\n",
      "4450               1.0\n"
     ]
    },
    {
     "data": {
      "text/plain": [
       "<AxesSubplot:>"
      ]
     },
     "execution_count": 13,
     "metadata": {},
     "output_type": "execute_result"
    },
    {
     "data": {
      "image/png": "[encoded data removed]",
      "text/plain": [
       "<Figure size 432x288 with 1 Axes>"
      ]
     },
     "metadata": {
      "needs_background": "light"
     },
     "output_type": "display_data"
    }
   ],
   "source": [
    "Last_Evaluation = DF_HR['last_evaluation'][DF_HR['left']==0].sort_values(ascending=False)\n",
    "DF_LE = pd.DataFrame(Last_Evaluation,columns=['last_evaluation'])\n",
    "print(Last_Evaluation.min(),\"==>\",Last_Evaluation.max())\n",
    "print(DF_LE.head(15))\n",
    "plt.xlim(0.35,1.05)\n",
    "plt.xticks(np.arange(0.35, 1.05, step=0.05),rotation=45)\n",
    "sns.distplot(DF_LE, hist=True, kde=False,bins=15, rug=False )"
   ]
  },
  {
   "cell_type": "markdown",
   "id": "3bc85461",
   "metadata": {
    "papermill": {
     "duration": 0.042242,
     "end_time": "2021-09-05T02:36:12.153971",
     "exception": false,
     "start_time": "2021-09-05T02:36:12.111729",
     "status": "completed"
    },
    "tags": []
   },
   "source": [
    "# *The most influential component on the problem target based on correlation detection*"
   ]
  },
  {
   "cell_type": "code",
   "execution_count": 14,
   "id": "31daa0cd",
   "metadata": {
    "execution": {
     "iopub.execute_input": "2021-09-05T02:36:12.244018Z",
     "iopub.status.busy": "2021-09-05T02:36:12.243248Z",
     "iopub.status.idle": "2021-09-05T02:36:13.133441Z",
     "shell.execute_reply": "2021-09-05T02:36:13.134023Z",
     "shell.execute_reply.started": "2021-09-05T01:52:12.997867Z"
    },
    "papermill": {
     "duration": 0.939104,
     "end_time": "2021-09-05T02:36:13.134201",
     "exception": false,
     "start_time": "2021-09-05T02:36:12.195097",
     "status": "completed"
    },
    "tags": []
   },
   "outputs": [
    {
     "name": "stdout",
     "output_type": "stream",
     "text": [
      "left                     1.000000\n",
      "satisfaction_level       0.388375\n",
      "Work_accident            0.154622\n",
      "time_spend_company       0.144822\n",
      "average_montly_hours     0.071287\n",
      "promotion_last_5years    0.061788\n",
      "number_project           0.023787\n",
      "last_evaluation          0.006567\n",
      "dtype: float64\n"
     ]
    },
    {
     "data": {
      "text/plain": [
       "<AxesSubplot:>"
      ]
     },
     "execution_count": 14,
     "metadata": {},
     "output_type": "execute_result"
    },
    {
     "data": {
      "image/png": "[encoded data removed]",
      "text/plain": [
       "<Figure size 864x576 with 2 Axes>"
      ]
     },
     "metadata": {
      "needs_background": "light"
     },
     "output_type": "display_data"
    }
   ],
   "source": [
    "Cor = np.abs(DF_HR.corrwith(DF_HR['left']))\n",
    "print(Cor.sort_values(ascending=False))\n",
    "\n",
    "plt.figure(figsize=(12,8))\n",
    "sns.heatmap(DF_HR.corr(),annot=True,linewidths=0.1,cmap=\"RdBu\")"
   ]
  },
  {
   "cell_type": "markdown",
   "id": "3b34b06d",
   "metadata": {
    "papermill": {
     "duration": 0.043297,
     "end_time": "2021-09-05T02:36:13.221522",
     "exception": false,
     "start_time": "2021-09-05T02:36:13.178225",
     "status": "completed"
    },
    "tags": []
   },
   "source": [
    "# *Analysis of staff drop chart based on the type of department and the average time spent in the organization*"
   ]
  },
  {
   "cell_type": "code",
   "execution_count": 15,
   "id": "7e77a90a",
   "metadata": {
    "execution": {
     "iopub.execute_input": "2021-09-05T02:36:13.311589Z",
     "iopub.status.busy": "2021-09-05T02:36:13.310965Z",
     "iopub.status.idle": "2021-09-05T02:36:35.649972Z",
     "shell.execute_reply": "2021-09-05T02:36:35.649444Z",
     "shell.execute_reply.started": "2021-09-05T01:53:54.182197Z"
    },
    "papermill": {
     "duration": 22.384955,
     "end_time": "2021-09-05T02:36:35.650116",
     "exception": false,
     "start_time": "2021-09-05T02:36:13.265161",
     "status": "completed"
    },
    "tags": []
   },
   "outputs": [
    {
     "data": {
      "text/plain": [
       "<AxesSubplot:xlabel='department', ylabel='time_spend_company'>"
      ]
     },
     "execution_count": 15,
     "metadata": {},
     "output_type": "execute_result"
    },
    {
     "data": {
      "image/png": "[encoded data removed]",
      "text/plain": [
       "<Figure size 1080x360 with 1 Axes>"
      ]
     },
     "metadata": {
      "needs_background": "light"
     },
     "output_type": "display_data"
    }
   ],
   "source": [
    "plt.figure(figsize=(15,5))\n",
    "Data_Left = DF_HR[DF_HR['left']==1]\n",
    "sns.swarmplot(x='department', y='time_spend_company' ,data=Data_Left)"
   ]
  },
  {
   "cell_type": "markdown",
   "id": "5c99ec78",
   "metadata": {
    "papermill": {
     "duration": 0.046027,
     "end_time": "2021-09-05T02:36:35.742789",
     "exception": false,
     "start_time": "2021-09-05T02:36:35.696762",
     "status": "completed"
    },
    "tags": []
   },
   "source": [
    "# *Box plot of all departments in terms of loss of personnel, and the average time spent in the organization in a frame*"
   ]
  },
  {
   "cell_type": "code",
   "execution_count": 16,
   "id": "24e2a0fa",
   "metadata": {
    "execution": {
     "iopub.execute_input": "2021-09-05T02:36:35.843245Z",
     "iopub.status.busy": "2021-09-05T02:36:35.842212Z",
     "iopub.status.idle": "2021-09-05T02:36:36.471181Z",
     "shell.execute_reply": "2021-09-05T02:36:36.470519Z",
     "shell.execute_reply.started": "2021-09-05T01:55:22.792810Z"
    },
    "papermill": {
     "duration": 0.681961,
     "end_time": "2021-09-05T02:36:36.471324",
     "exception": false,
     "start_time": "2021-09-05T02:36:35.789363",
     "status": "completed"
    },
    "tags": []
   },
   "outputs": [
    {
     "data": {
      "text/plain": [
       "<AxesSubplot:xlabel='department', ylabel='time_spend_company'>"
      ]
     },
     "execution_count": 16,
     "metadata": {},
     "output_type": "execute_result"
    },
    {
     "data": {
      "image/png": "[encoded data removed]",
      "text/plain": [
       "<Figure size 1080x360 with 1 Axes>"
      ]
     },
     "metadata": {
      "needs_background": "light"
     },
     "output_type": "display_data"
    }
   ],
   "source": [
    "plt.figure(figsize=(15,5))\n",
    "plt.xticks(rotation=45)\n",
    "sns.boxplot(x='department', y='time_spend_company', data=DF_HR, hue='left')"
   ]
  },
  {
   "cell_type": "markdown",
   "id": "7536e061",
   "metadata": {
    "papermill": {
     "duration": 0.046621,
     "end_time": "2021-09-05T02:36:36.564832",
     "exception": false,
     "start_time": "2021-09-05T02:36:36.518211",
     "status": "completed"
    },
    "tags": []
   },
   "source": [
    "# *Comparison of distribution and box chart of loyal personnel of the organization based on the latest evaluation status of the organization's people in one frame*"
   ]
  },
  {
   "cell_type": "code",
   "execution_count": 17,
   "id": "09cdf27a",
   "metadata": {
    "execution": {
     "iopub.execute_input": "2021-09-05T02:36:36.687237Z",
     "iopub.status.busy": "2021-09-05T02:36:36.686535Z",
     "iopub.status.idle": "2021-09-05T02:36:37.339168Z",
     "shell.execute_reply": "2021-09-05T02:36:37.338473Z",
     "shell.execute_reply.started": "2021-09-05T01:56:32.116026Z"
    },
    "papermill": {
     "duration": 0.727997,
     "end_time": "2021-09-05T02:36:37.339322",
     "exception": false,
     "start_time": "2021-09-05T02:36:36.611325",
     "status": "completed"
    },
    "tags": []
   },
   "outputs": [
    {
     "data": {
      "text/plain": [
       "<AxesSubplot:xlabel='last_evaluation', ylabel='Density'>"
      ]
     },
     "execution_count": 17,
     "metadata": {},
     "output_type": "execute_result"
    },
    {
     "data": {
      "image/png": "[encoded data removed]",
      "text/plain": [
       "<Figure size 1440x360 with 2 Axes>"
      ]
     },
     "metadata": {
      "needs_background": "light"
     },
     "output_type": "display_data"
    }
   ],
   "source": [
    "plt.figure(figsize=(20,5))\n",
    "plt.subplot(1,2,1)\n",
    "sns.boxplot(x='last_evaluation', data=DF_HR[DF_HR['left']==0])\n",
    "plt.xlim(0.35,1.05)\n",
    "plt.xticks(np.arange(0.35, 1.05, step=0.05))\n",
    "plt.subplot(1,2,2)\n",
    "sns.distplot(DF_HR['last_evaluation'][DF_HR['left']==0],bins=11)"
   ]
  },
  {
   "cell_type": "markdown",
   "id": "44a07fa7",
   "metadata": {
    "papermill": {
     "duration": 0.048716,
     "end_time": "2021-09-05T02:36:37.437218",
     "exception": false,
     "start_time": "2021-09-05T02:36:37.388502",
     "status": "completed"
    },
    "tags": []
   },
   "source": [
    "# *Compare the histogram of the latest evaluation status of personnel who have suffered a loss and personnel who will be active in the company in one format*"
   ]
  },
  {
   "cell_type": "code",
   "execution_count": 18,
   "id": "5114ae81",
   "metadata": {
    "execution": {
     "iopub.execute_input": "2021-09-05T02:36:37.589027Z",
     "iopub.status.busy": "2021-09-05T02:36:37.546234Z",
     "iopub.status.idle": "2021-09-05T02:36:38.300708Z",
     "shell.execute_reply": "2021-09-05T02:36:38.300055Z",
     "shell.execute_reply.started": "2021-09-05T01:58:15.372503Z"
    },
    "papermill": {
     "duration": 0.814818,
     "end_time": "2021-09-05T02:36:38.300848",
     "exception": false,
     "start_time": "2021-09-05T02:36:37.486030",
     "status": "completed"
    },
    "tags": []
   },
   "outputs": [
    {
     "data": {
      "text/plain": [
       "<AxesSubplot:xlabel='last_evaluation', ylabel='Count'>"
      ]
     },
     "execution_count": 18,
     "metadata": {},
     "output_type": "execute_result"
    },
    {
     "data": {
      "image/png": "[encoded data removed]",
      "text/plain": [
       "<Figure size 1440x360 with 3 Axes>"
      ]
     },
     "metadata": {
      "needs_background": "light"
     },
     "output_type": "display_data"
    }
   ],
   "source": [
    "plt.figure(figsize=(20,5))\n",
    "plt.subplot(1,3,1)\n",
    "plt.xlim(0.35,1.05)\n",
    "plt.xticks(np.arange(0.35, 1.05, step=0.05),rotation=45)\n",
    "sns.histplot(x='last_evaluation', data=DF_HR, hue='left',bins=11)\n",
    "plt.subplot(1,3,2)\n",
    "plt.xlim(0.35,1.05)\n",
    "plt.xticks(np.arange(0.35, 1.05, step=0.05),rotation=45)\n",
    "sns.histplot(x='last_evaluation', data=DF_HR[DF_HR['left']==0],bins=11)\n",
    "plt.subplot(1,3,3)\n",
    "plt.xlim(0.35,1.05)\n",
    "plt.xticks(np.arange(0.35, 1.05, step=0.05),rotation=45)\n",
    "sns.histplot(x='last_evaluation', data=DF_HR[DF_HR['left']==1],bins=11)"
   ]
  },
  {
   "cell_type": "markdown",
   "id": "6a91b23d",
   "metadata": {
    "papermill": {
     "duration": 0.049853,
     "end_time": "2021-09-05T02:36:38.403116",
     "exception": false,
     "start_time": "2021-09-05T02:36:38.353263",
     "status": "completed"
    },
    "tags": []
   },
   "source": [
    "# *Comparison of satisfaction histogram of personnel  who have resigned and personnel who will be active in the company in one format*"
   ]
  },
  {
   "cell_type": "code",
   "execution_count": 19,
   "id": "16dfedfb",
   "metadata": {
    "execution": {
     "iopub.execute_input": "2021-09-05T02:36:38.566092Z",
     "iopub.status.busy": "2021-09-05T02:36:38.565389Z",
     "iopub.status.idle": "2021-09-05T02:36:39.083943Z",
     "shell.execute_reply": "2021-09-05T02:36:39.083200Z",
     "shell.execute_reply.started": "2021-09-05T02:05:20.993466Z"
    },
    "papermill": {
     "duration": 0.631032,
     "end_time": "2021-09-05T02:36:39.084099",
     "exception": false,
     "start_time": "2021-09-05T02:36:38.453067",
     "status": "completed"
    },
    "tags": []
   },
   "outputs": [
    {
     "data": {
      "text/plain": [
       "<AxesSubplot:title={'center':'Personnel who have resigned'}, xlabel='satisfaction_level', ylabel='Count'>"
      ]
     },
     "execution_count": 19,
     "metadata": {},
     "output_type": "execute_result"
    },
    {
     "data": {
      "image/png": "[encoded data removed]",
      "text/plain": [
       "<Figure size 1440x360 with 2 Axes>"
      ]
     },
     "metadata": {
      "needs_background": "light"
     },
     "output_type": "display_data"
    }
   ],
   "source": [
    "plt.figure(figsize=(20,5))\n",
    "plt.subplot(1,2,1)\n",
    "plt.xlim(0.05,1.05)\n",
    "plt.title(\"Personnel who have not resigned\")\n",
    "plt.xticks(np.arange(0.05, 1.05, step=0.05),rotation=45)\n",
    "sns.histplot(x='satisfaction_level', data=DF_HR[DF_HR['left']==0], bins=20)\n",
    "plt.subplot(1,2,2)\n",
    "plt.xlim(0.05,1.05)\n",
    "plt.title(\"Personnel who have resigned\")\n",
    "plt.xticks(np.arange(0.05, 1.05, step=0.05),rotation=45)\n",
    "sns.histplot(x='satisfaction_level', data=DF_HR[DF_HR['left']==1], bins=20)"
   ]
  },
  {
   "cell_type": "markdown",
   "id": "6ea0ceb8",
   "metadata": {
    "papermill": {
     "duration": 0.055058,
     "end_time": "2021-09-05T02:36:39.191747",
     "exception": false,
     "start_time": "2021-09-05T02:36:39.136689",
     "status": "completed"
    },
    "tags": []
   },
   "source": [
    "# *Graph the number of people working in each data department according to the amount of income (bar chart)*"
   ]
  },
  {
   "cell_type": "code",
   "execution_count": 20,
   "id": "c5341955",
   "metadata": {
    "execution": {
     "iopub.execute_input": "2021-09-05T02:36:39.328884Z",
     "iopub.status.busy": "2021-09-05T02:36:39.328153Z",
     "iopub.status.idle": "2021-09-05T02:36:39.927240Z",
     "shell.execute_reply": "2021-09-05T02:36:39.926477Z",
     "shell.execute_reply.started": "2021-09-05T02:07:27.443119Z"
    },
    "papermill": {
     "duration": 0.68348,
     "end_time": "2021-09-05T02:36:39.927401",
     "exception": false,
     "start_time": "2021-09-05T02:36:39.243921",
     "status": "completed"
    },
    "tags": []
   },
   "outputs": [
    {
     "data": {
      "image/png": "[encoded data removed]",
      "text/plain": [
       "<Figure size 1080x360 with 1 Axes>"
      ]
     },
     "metadata": {
      "needs_background": "light"
     },
     "output_type": "display_data"
    }
   ],
   "source": [
    "plt.figure(figsize=(15,5))\n",
    "plt.xticks(rotation=45)\n",
    "Plot = sns.countplot(x='department', data=DF_HR[DF_HR['left']==0],hue='salary')\n",
    "Bar_Lable(Plot,'.0f')"
   ]
  },
  {
   "cell_type": "markdown",
   "id": "7f9594a0",
   "metadata": {
    "papermill": {
     "duration": 0.056235,
     "end_time": "2021-09-05T02:36:40.038906",
     "exception": false,
     "start_time": "2021-09-05T02:36:39.982671",
     "status": "completed"
    },
    "tags": []
   },
   "source": [
    "# *Changing Categorical to numerical*"
   ]
  },
  {
   "cell_type": "code",
   "execution_count": 21,
   "id": "336308e0",
   "metadata": {
    "execution": {
     "iopub.execute_input": "2021-09-05T02:36:40.176724Z",
     "iopub.status.busy": "2021-09-05T02:36:40.175756Z",
     "iopub.status.idle": "2021-09-05T02:36:40.179598Z",
     "shell.execute_reply": "2021-09-05T02:36:40.178953Z",
     "shell.execute_reply.started": "2021-09-05T02:08:41.821537Z"
    },
    "papermill": {
     "duration": 0.086001,
     "end_time": "2021-09-05T02:36:40.179744",
     "exception": false,
     "start_time": "2021-09-05T02:36:40.093743",
     "status": "completed"
    },
    "tags": []
   },
   "outputs": [
    {
     "data": {
      "text/html": [
       "<div>\n",
       "<style scoped>\n",
       "    .dataframe tbody tr th:only-of-type {\n",
       "        vertical-align: middle;\n",
       "    }\n",
       "\n",
       "    .dataframe tbody tr th {\n",
       "        vertical-align: top;\n",
       "    }\n",
       "\n",
       "    .dataframe thead th {\n",
       "        text-align: right;\n",
       "    }\n",
       "</style>\n",
       "<table border=\"1\" class=\"dataframe\">\n",
       "  <thead>\n",
       "    <tr style=\"text-align: right;\">\n",
       "      <th></th>\n",
       "      <th>satisfaction_level</th>\n",
       "      <th>last_evaluation</th>\n",
       "      <th>number_project</th>\n",
       "      <th>average_montly_hours</th>\n",
       "      <th>time_spend_company</th>\n",
       "      <th>Work_accident</th>\n",
       "      <th>left</th>\n",
       "      <th>promotion_last_5years</th>\n",
       "      <th>department</th>\n",
       "      <th>salary</th>\n",
       "    </tr>\n",
       "  </thead>\n",
       "  <tbody>\n",
       "    <tr>\n",
       "      <th>0</th>\n",
       "      <td>0.38</td>\n",
       "      <td>0.53</td>\n",
       "      <td>2</td>\n",
       "      <td>157</td>\n",
       "      <td>3</td>\n",
       "      <td>0</td>\n",
       "      <td>1</td>\n",
       "      <td>0</td>\n",
       "      <td>sales</td>\n",
       "      <td>1</td>\n",
       "    </tr>\n",
       "    <tr>\n",
       "      <th>1</th>\n",
       "      <td>0.80</td>\n",
       "      <td>0.86</td>\n",
       "      <td>5</td>\n",
       "      <td>262</td>\n",
       "      <td>6</td>\n",
       "      <td>0</td>\n",
       "      <td>1</td>\n",
       "      <td>0</td>\n",
       "      <td>sales</td>\n",
       "      <td>2</td>\n",
       "    </tr>\n",
       "    <tr>\n",
       "      <th>2</th>\n",
       "      <td>0.11</td>\n",
       "      <td>0.88</td>\n",
       "      <td>7</td>\n",
       "      <td>272</td>\n",
       "      <td>4</td>\n",
       "      <td>0</td>\n",
       "      <td>1</td>\n",
       "      <td>0</td>\n",
       "      <td>sales</td>\n",
       "      <td>2</td>\n",
       "    </tr>\n",
       "    <tr>\n",
       "      <th>3</th>\n",
       "      <td>0.72</td>\n",
       "      <td>0.87</td>\n",
       "      <td>5</td>\n",
       "      <td>223</td>\n",
       "      <td>5</td>\n",
       "      <td>0</td>\n",
       "      <td>1</td>\n",
       "      <td>0</td>\n",
       "      <td>sales</td>\n",
       "      <td>1</td>\n",
       "    </tr>\n",
       "    <tr>\n",
       "      <th>4</th>\n",
       "      <td>0.37</td>\n",
       "      <td>0.52</td>\n",
       "      <td>2</td>\n",
       "      <td>159</td>\n",
       "      <td>3</td>\n",
       "      <td>0</td>\n",
       "      <td>1</td>\n",
       "      <td>0</td>\n",
       "      <td>sales</td>\n",
       "      <td>1</td>\n",
       "    </tr>\n",
       "  </tbody>\n",
       "</table>\n",
       "</div>"
      ],
      "text/plain": [
       "   satisfaction_level  last_evaluation  number_project  average_montly_hours  \\\n",
       "0                0.38             0.53               2                   157   \n",
       "1                0.80             0.86               5                   262   \n",
       "2                0.11             0.88               7                   272   \n",
       "3                0.72             0.87               5                   223   \n",
       "4                0.37             0.52               2                   159   \n",
       "\n",
       "   time_spend_company  Work_accident  left  promotion_last_5years department  \\\n",
       "0                   3              0     1                      0      sales   \n",
       "1                   6              0     1                      0      sales   \n",
       "2                   4              0     1                      0      sales   \n",
       "3                   5              0     1                      0      sales   \n",
       "4                   3              0     1                      0      sales   \n",
       "\n",
       "   salary  \n",
       "0       1  \n",
       "1       2  \n",
       "2       2  \n",
       "3       1  \n",
       "4       1  "
      ]
     },
     "execution_count": 21,
     "metadata": {},
     "output_type": "execute_result"
    }
   ],
   "source": [
    "# salary_dict = {'low':0,'medium':1,'high':2}\n",
    "# DF_HR['salary_num'] = DF_HR.salary.map(salary_dict)\n",
    "# DF_HR.drop('salary', inplace=True, axis=1)\n",
    "# DF_HR = DF_HR.rename(index=str, columns={'salary_num':'salary'})\n",
    "DF_HR['salary'] = DF_HR['salary'].replace({'low':1, 'medium':2, 'high':3})\n",
    "DF_HR.head()"
   ]
  },
  {
   "cell_type": "code",
   "execution_count": 22,
   "id": "90e343f4",
   "metadata": {
    "execution": {
     "iopub.execute_input": "2021-09-05T02:36:40.300770Z",
     "iopub.status.busy": "2021-09-05T02:36:40.300012Z",
     "iopub.status.idle": "2021-09-05T02:36:40.323273Z",
     "shell.execute_reply": "2021-09-05T02:36:40.322612Z",
     "shell.execute_reply.started": "2021-09-05T02:09:12.880586Z"
    },
    "papermill": {
     "duration": 0.084748,
     "end_time": "2021-09-05T02:36:40.323418",
     "exception": false,
     "start_time": "2021-09-05T02:36:40.238670",
     "status": "completed"
    },
    "tags": []
   },
   "outputs": [
    {
     "data": {
      "text/html": [
       "<div>\n",
       "<style scoped>\n",
       "    .dataframe tbody tr th:only-of-type {\n",
       "        vertical-align: middle;\n",
       "    }\n",
       "\n",
       "    .dataframe tbody tr th {\n",
       "        vertical-align: top;\n",
       "    }\n",
       "\n",
       "    .dataframe thead th {\n",
       "        text-align: right;\n",
       "    }\n",
       "</style>\n",
       "<table border=\"1\" class=\"dataframe\">\n",
       "  <thead>\n",
       "    <tr style=\"text-align: right;\">\n",
       "      <th></th>\n",
       "      <th>satisfaction_level</th>\n",
       "      <th>last_evaluation</th>\n",
       "      <th>number_project</th>\n",
       "      <th>average_montly_hours</th>\n",
       "      <th>time_spend_company</th>\n",
       "      <th>Work_accident</th>\n",
       "      <th>left</th>\n",
       "      <th>promotion_last_5years</th>\n",
       "      <th>salary</th>\n",
       "      <th>RandD</th>\n",
       "      <th>accounting</th>\n",
       "      <th>hr</th>\n",
       "      <th>management</th>\n",
       "      <th>marketing</th>\n",
       "      <th>product_mng</th>\n",
       "      <th>sales</th>\n",
       "      <th>support</th>\n",
       "      <th>technical</th>\n",
       "    </tr>\n",
       "  </thead>\n",
       "  <tbody>\n",
       "    <tr>\n",
       "      <th>0</th>\n",
       "      <td>0.38</td>\n",
       "      <td>0.53</td>\n",
       "      <td>2</td>\n",
       "      <td>157</td>\n",
       "      <td>3</td>\n",
       "      <td>0</td>\n",
       "      <td>1</td>\n",
       "      <td>0</td>\n",
       "      <td>1</td>\n",
       "      <td>0</td>\n",
       "      <td>0</td>\n",
       "      <td>0</td>\n",
       "      <td>0</td>\n",
       "      <td>0</td>\n",
       "      <td>0</td>\n",
       "      <td>1</td>\n",
       "      <td>0</td>\n",
       "      <td>0</td>\n",
       "    </tr>\n",
       "    <tr>\n",
       "      <th>1</th>\n",
       "      <td>0.80</td>\n",
       "      <td>0.86</td>\n",
       "      <td>5</td>\n",
       "      <td>262</td>\n",
       "      <td>6</td>\n",
       "      <td>0</td>\n",
       "      <td>1</td>\n",
       "      <td>0</td>\n",
       "      <td>2</td>\n",
       "      <td>0</td>\n",
       "      <td>0</td>\n",
       "      <td>0</td>\n",
       "      <td>0</td>\n",
       "      <td>0</td>\n",
       "      <td>0</td>\n",
       "      <td>1</td>\n",
       "      <td>0</td>\n",
       "      <td>0</td>\n",
       "    </tr>\n",
       "    <tr>\n",
       "      <th>2</th>\n",
       "      <td>0.11</td>\n",
       "      <td>0.88</td>\n",
       "      <td>7</td>\n",
       "      <td>272</td>\n",
       "      <td>4</td>\n",
       "      <td>0</td>\n",
       "      <td>1</td>\n",
       "      <td>0</td>\n",
       "      <td>2</td>\n",
       "      <td>0</td>\n",
       "      <td>0</td>\n",
       "      <td>0</td>\n",
       "      <td>0</td>\n",
       "      <td>0</td>\n",
       "      <td>0</td>\n",
       "      <td>1</td>\n",
       "      <td>0</td>\n",
       "      <td>0</td>\n",
       "    </tr>\n",
       "    <tr>\n",
       "      <th>3</th>\n",
       "      <td>0.72</td>\n",
       "      <td>0.87</td>\n",
       "      <td>5</td>\n",
       "      <td>223</td>\n",
       "      <td>5</td>\n",
       "      <td>0</td>\n",
       "      <td>1</td>\n",
       "      <td>0</td>\n",
       "      <td>1</td>\n",
       "      <td>0</td>\n",
       "      <td>0</td>\n",
       "      <td>0</td>\n",
       "      <td>0</td>\n",
       "      <td>0</td>\n",
       "      <td>0</td>\n",
       "      <td>1</td>\n",
       "      <td>0</td>\n",
       "      <td>0</td>\n",
       "    </tr>\n",
       "    <tr>\n",
       "      <th>4</th>\n",
       "      <td>0.37</td>\n",
       "      <td>0.52</td>\n",
       "      <td>2</td>\n",
       "      <td>159</td>\n",
       "      <td>3</td>\n",
       "      <td>0</td>\n",
       "      <td>1</td>\n",
       "      <td>0</td>\n",
       "      <td>1</td>\n",
       "      <td>0</td>\n",
       "      <td>0</td>\n",
       "      <td>0</td>\n",
       "      <td>0</td>\n",
       "      <td>0</td>\n",
       "      <td>0</td>\n",
       "      <td>1</td>\n",
       "      <td>0</td>\n",
       "      <td>0</td>\n",
       "    </tr>\n",
       "  </tbody>\n",
       "</table>\n",
       "</div>"
      ],
      "text/plain": [
       "   satisfaction_level  last_evaluation  number_project  average_montly_hours  \\\n",
       "0                0.38             0.53               2                   157   \n",
       "1                0.80             0.86               5                   262   \n",
       "2                0.11             0.88               7                   272   \n",
       "3                0.72             0.87               5                   223   \n",
       "4                0.37             0.52               2                   159   \n",
       "\n",
       "   time_spend_company  Work_accident  left  promotion_last_5years  salary  \\\n",
       "0                   3              0     1                      0       1   \n",
       "1                   6              0     1                      0       2   \n",
       "2                   4              0     1                      0       2   \n",
       "3                   5              0     1                      0       1   \n",
       "4                   3              0     1                      0       1   \n",
       "\n",
       "   RandD  accounting  hr  management  marketing  product_mng  sales  support  \\\n",
       "0      0           0   0           0          0            0      1        0   \n",
       "1      0           0   0           0          0            0      1        0   \n",
       "2      0           0   0           0          0            0      1        0   \n",
       "3      0           0   0           0          0            0      1        0   \n",
       "4      0           0   0           0          0            0      1        0   \n",
       "\n",
       "   technical  \n",
       "0          0  \n",
       "1          0  \n",
       "2          0  \n",
       "3          0  \n",
       "4          0  "
      ]
     },
     "execution_count": 22,
     "metadata": {},
     "output_type": "execute_result"
    }
   ],
   "source": [
    "Temp = pd.get_dummies(DF_HR['department'],drop_first=True)\n",
    "DF_HR = pd.concat([DF_HR, Temp], axis=1)\n",
    "DF_HR.drop(['department'],axis=1, inplace=True)\n",
    "DF_HR.head()"
   ]
  },
  {
   "cell_type": "markdown",
   "id": "950726b9",
   "metadata": {
    "papermill": {
     "duration": 0.056679,
     "end_time": "2021-09-05T02:36:40.436943",
     "exception": false,
     "start_time": "2021-09-05T02:36:40.380264",
     "status": "completed"
    },
    "tags": []
   },
   "source": [
    "# **Scaling**"
   ]
  },
  {
   "cell_type": "code",
   "execution_count": 23,
   "id": "595640b3",
   "metadata": {
    "execution": {
     "iopub.execute_input": "2021-09-05T02:36:40.558876Z",
     "iopub.status.busy": "2021-09-05T02:36:40.557939Z",
     "iopub.status.idle": "2021-09-05T02:36:40.782563Z",
     "shell.execute_reply": "2021-09-05T02:36:40.781789Z",
     "shell.execute_reply.started": "2021-09-05T02:10:08.941103Z"
    },
    "papermill": {
     "duration": 0.290848,
     "end_time": "2021-09-05T02:36:40.782727",
     "exception": false,
     "start_time": "2021-09-05T02:36:40.491879",
     "status": "completed"
    },
    "tags": []
   },
   "outputs": [
    {
     "data": {
      "text/html": [
       "<div>\n",
       "<style scoped>\n",
       "    .dataframe tbody tr th:only-of-type {\n",
       "        vertical-align: middle;\n",
       "    }\n",
       "\n",
       "    .dataframe tbody tr th {\n",
       "        vertical-align: top;\n",
       "    }\n",
       "\n",
       "    .dataframe thead th {\n",
       "        text-align: right;\n",
       "    }\n",
       "</style>\n",
       "<table border=\"1\" class=\"dataframe\">\n",
       "  <thead>\n",
       "    <tr style=\"text-align: right;\">\n",
       "      <th></th>\n",
       "      <th>satisfaction_level</th>\n",
       "      <th>last_evaluation</th>\n",
       "      <th>number_project</th>\n",
       "      <th>average_montly_hours</th>\n",
       "      <th>time_spend_company</th>\n",
       "      <th>Work_accident</th>\n",
       "      <th>left</th>\n",
       "      <th>promotion_last_5years</th>\n",
       "      <th>salary</th>\n",
       "      <th>RandD</th>\n",
       "      <th>accounting</th>\n",
       "      <th>hr</th>\n",
       "      <th>management</th>\n",
       "      <th>marketing</th>\n",
       "      <th>product_mng</th>\n",
       "      <th>sales</th>\n",
       "      <th>support</th>\n",
       "      <th>technical</th>\n",
       "    </tr>\n",
       "  </thead>\n",
       "  <tbody>\n",
       "    <tr>\n",
       "      <th>0</th>\n",
       "      <td>0.318681</td>\n",
       "      <td>0.265625</td>\n",
       "      <td>0.0</td>\n",
       "      <td>0.285047</td>\n",
       "      <td>0.125</td>\n",
       "      <td>0.0</td>\n",
       "      <td>1</td>\n",
       "      <td>0.0</td>\n",
       "      <td>0.0</td>\n",
       "      <td>0</td>\n",
       "      <td>0</td>\n",
       "      <td>0</td>\n",
       "      <td>0</td>\n",
       "      <td>0</td>\n",
       "      <td>0</td>\n",
       "      <td>1</td>\n",
       "      <td>0</td>\n",
       "      <td>0</td>\n",
       "    </tr>\n",
       "    <tr>\n",
       "      <th>1</th>\n",
       "      <td>0.780220</td>\n",
       "      <td>0.781250</td>\n",
       "      <td>0.6</td>\n",
       "      <td>0.775701</td>\n",
       "      <td>0.500</td>\n",
       "      <td>0.0</td>\n",
       "      <td>1</td>\n",
       "      <td>0.0</td>\n",
       "      <td>0.5</td>\n",
       "      <td>0</td>\n",
       "      <td>0</td>\n",
       "      <td>0</td>\n",
       "      <td>0</td>\n",
       "      <td>0</td>\n",
       "      <td>0</td>\n",
       "      <td>1</td>\n",
       "      <td>0</td>\n",
       "      <td>0</td>\n",
       "    </tr>\n",
       "    <tr>\n",
       "      <th>2</th>\n",
       "      <td>0.021978</td>\n",
       "      <td>0.812500</td>\n",
       "      <td>1.0</td>\n",
       "      <td>0.822430</td>\n",
       "      <td>0.250</td>\n",
       "      <td>0.0</td>\n",
       "      <td>1</td>\n",
       "      <td>0.0</td>\n",
       "      <td>0.5</td>\n",
       "      <td>0</td>\n",
       "      <td>0</td>\n",
       "      <td>0</td>\n",
       "      <td>0</td>\n",
       "      <td>0</td>\n",
       "      <td>0</td>\n",
       "      <td>1</td>\n",
       "      <td>0</td>\n",
       "      <td>0</td>\n",
       "    </tr>\n",
       "    <tr>\n",
       "      <th>3</th>\n",
       "      <td>0.692308</td>\n",
       "      <td>0.796875</td>\n",
       "      <td>0.6</td>\n",
       "      <td>0.593458</td>\n",
       "      <td>0.375</td>\n",
       "      <td>0.0</td>\n",
       "      <td>1</td>\n",
       "      <td>0.0</td>\n",
       "      <td>0.0</td>\n",
       "      <td>0</td>\n",
       "      <td>0</td>\n",
       "      <td>0</td>\n",
       "      <td>0</td>\n",
       "      <td>0</td>\n",
       "      <td>0</td>\n",
       "      <td>1</td>\n",
       "      <td>0</td>\n",
       "      <td>0</td>\n",
       "    </tr>\n",
       "    <tr>\n",
       "      <th>4</th>\n",
       "      <td>0.307692</td>\n",
       "      <td>0.250000</td>\n",
       "      <td>0.0</td>\n",
       "      <td>0.294393</td>\n",
       "      <td>0.125</td>\n",
       "      <td>0.0</td>\n",
       "      <td>1</td>\n",
       "      <td>0.0</td>\n",
       "      <td>0.0</td>\n",
       "      <td>0</td>\n",
       "      <td>0</td>\n",
       "      <td>0</td>\n",
       "      <td>0</td>\n",
       "      <td>0</td>\n",
       "      <td>0</td>\n",
       "      <td>1</td>\n",
       "      <td>0</td>\n",
       "      <td>0</td>\n",
       "    </tr>\n",
       "  </tbody>\n",
       "</table>\n",
       "</div>"
      ],
      "text/plain": [
       "   satisfaction_level  last_evaluation  number_project  average_montly_hours  \\\n",
       "0            0.318681         0.265625             0.0              0.285047   \n",
       "1            0.780220         0.781250             0.6              0.775701   \n",
       "2            0.021978         0.812500             1.0              0.822430   \n",
       "3            0.692308         0.796875             0.6              0.593458   \n",
       "4            0.307692         0.250000             0.0              0.294393   \n",
       "\n",
       "   time_spend_company  Work_accident  left  promotion_last_5years  salary  \\\n",
       "0               0.125            0.0     1                    0.0     0.0   \n",
       "1               0.500            0.0     1                    0.0     0.5   \n",
       "2               0.250            0.0     1                    0.0     0.5   \n",
       "3               0.375            0.0     1                    0.0     0.0   \n",
       "4               0.125            0.0     1                    0.0     0.0   \n",
       "\n",
       "   RandD  accounting  hr  management  marketing  product_mng  sales  support  \\\n",
       "0      0           0   0           0          0            0      1        0   \n",
       "1      0           0   0           0          0            0      1        0   \n",
       "2      0           0   0           0          0            0      1        0   \n",
       "3      0           0   0           0          0            0      1        0   \n",
       "4      0           0   0           0          0            0      1        0   \n",
       "\n",
       "   technical  \n",
       "0          0  \n",
       "1          0  \n",
       "2          0  \n",
       "3          0  \n",
       "4          0  "
      ]
     },
     "execution_count": 23,
     "metadata": {},
     "output_type": "execute_result"
    }
   ],
   "source": [
    "from sklearn.preprocessing import MinMaxScaler\n",
    "Features = ['satisfaction_level','last_evaluation','number_project','average_montly_hours','time_spend_company',\n",
    "            'Work_accident','promotion_last_5years','salary']\n",
    "Scaler = MinMaxScaler()\n",
    "DF_HR[Features] = Scaler.fit_transform(DF_HR[Features])\n",
    "DF_HR.head()"
   ]
  },
  {
   "cell_type": "markdown",
   "id": "ada0ce51",
   "metadata": {
    "papermill": {
     "duration": 0.05776,
     "end_time": "2021-09-05T02:36:40.897954",
     "exception": false,
     "start_time": "2021-09-05T02:36:40.840194",
     "status": "completed"
    },
    "tags": []
   },
   "source": [
    "# **Train Test Split**"
   ]
  },
  {
   "cell_type": "code",
   "execution_count": 24,
   "id": "53d4eaf5",
   "metadata": {
    "execution": {
     "iopub.execute_input": "2021-09-05T02:36:41.020239Z",
     "iopub.status.busy": "2021-09-05T02:36:41.019168Z",
     "iopub.status.idle": "2021-09-05T02:36:41.270835Z",
     "shell.execute_reply": "2021-09-05T02:36:41.270121Z",
     "shell.execute_reply.started": "2021-09-05T02:10:57.543702Z"
    },
    "papermill": {
     "duration": 0.315451,
     "end_time": "2021-09-05T02:36:41.270988",
     "exception": false,
     "start_time": "2021-09-05T02:36:40.955537",
     "status": "completed"
    },
    "tags": []
   },
   "outputs": [],
   "source": [
    "from sklearn.model_selection import train_test_split\n",
    "\n",
    "X_DF_HR = DF_HR.drop('left', axis=1)\n",
    "Y_DF_HR = DF_HR['left']\n",
    "X_Train, X_Test, Y_Train, Y_Test = train_test_split(X_DF_HR,Y_DF_HR,test_size=0.3, train_size=0.7, random_state=100,\n",
    "                                                    shuffle=True, stratify=(Y_DF_HR))"
   ]
  },
  {
   "cell_type": "code",
   "execution_count": 25,
   "id": "3eba589c",
   "metadata": {
    "execution": {
     "iopub.execute_input": "2021-09-05T02:36:41.389656Z",
     "iopub.status.busy": "2021-09-05T02:36:41.388469Z",
     "iopub.status.idle": "2021-09-05T02:36:41.514243Z",
     "shell.execute_reply": "2021-09-05T02:36:41.513602Z",
     "shell.execute_reply.started": "2021-09-05T02:12:09.713452Z"
    },
    "papermill": {
     "duration": 0.188995,
     "end_time": "2021-09-05T02:36:41.514382",
     "exception": false,
     "start_time": "2021-09-05T02:36:41.325387",
     "status": "completed"
    },
    "tags": []
   },
   "outputs": [
    {
     "data": {
      "text/plain": [
       "<AxesSubplot:xlabel='left', ylabel='count'>"
      ]
     },
     "execution_count": 25,
     "metadata": {},
     "output_type": "execute_result"
    },
    {
     "data": {
      "image/png": "[encoded data removed]",
      "text/plain": [
       "<Figure size 432x288 with 1 Axes>"
      ]
     },
     "metadata": {
      "needs_background": "light"
     },
     "output_type": "display_data"
    }
   ],
   "source": [
    "sns.countplot(DF_HR['left'])"
   ]
  },
  {
   "cell_type": "markdown",
   "id": "392549a0",
   "metadata": {
    "papermill": {
     "duration": 0.057303,
     "end_time": "2021-09-05T02:36:41.630175",
     "exception": false,
     "start_time": "2021-09-05T02:36:41.572872",
     "status": "completed"
    },
    "tags": []
   },
   "source": [
    "# **Weighting**"
   ]
  },
  {
   "cell_type": "code",
   "execution_count": 26,
   "id": "5511055c",
   "metadata": {
    "execution": {
     "iopub.execute_input": "2021-09-05T02:36:41.754039Z",
     "iopub.status.busy": "2021-09-05T02:36:41.753028Z",
     "iopub.status.idle": "2021-09-05T02:36:41.767248Z",
     "shell.execute_reply": "2021-09-05T02:36:41.766481Z",
     "shell.execute_reply.started": "2021-09-05T02:13:03.142767Z"
    },
    "papermill": {
     "duration": 0.076979,
     "end_time": "2021-09-05T02:36:41.767398",
     "exception": false,
     "start_time": "2021-09-05T02:36:41.690419",
     "status": "completed"
    },
    "tags": []
   },
   "outputs": [
    {
     "data": {
      "text/plain": [
       "{0: 0.6562695336917115, 1: 2.0998}"
      ]
     },
     "execution_count": 26,
     "metadata": {},
     "output_type": "execute_result"
    }
   ],
   "source": [
    "from sklearn.utils import class_weight\n",
    "Class_weights = class_weight.compute_class_weight('balanced', np.unique(Y_Train), Y_Train)\n",
    "Class_weights = dict(zip(np.unique(Y_Train), class_weight.compute_class_weight('balanced', np.unique(Y_Train), Y_Train)))\n",
    "Class_weights"
   ]
  },
  {
   "cell_type": "code",
   "execution_count": 27,
   "id": "4ed4d3c4",
   "metadata": {
    "execution": {
     "iopub.execute_input": "2021-09-05T02:36:41.888798Z",
     "iopub.status.busy": "2021-09-05T02:36:41.887998Z",
     "iopub.status.idle": "2021-09-05T02:36:41.891296Z",
     "shell.execute_reply": "2021-09-05T02:36:41.890622Z",
     "shell.execute_reply.started": "2021-09-05T02:13:24.269623Z"
    },
    "papermill": {
     "duration": 0.066773,
     "end_time": "2021-09-05T02:36:41.891443",
     "exception": false,
     "start_time": "2021-09-05T02:36:41.824670",
     "status": "completed"
    },
    "tags": []
   },
   "outputs": [],
   "source": [
    "def Model(Kind):\n",
    "    EXE_Model = Kind(class_weight=Class_weights)\n",
    "    EXE_Model.fit(X_Train,Y_Train)\n",
    "    Predicted_Model = EXE_Model.predict(X_Test)\n",
    "    Acc_Test = accuracy_score(Predicted_Model,Y_Test)\n",
    "    print('Accuracy on Train: {:.3f}'.format(EXE_Model.score(X_Train,Y_Train)))\n",
    "    print('Accuracy on Test : {:.3f}'.format(Acc_Test))\n",
    "    print(classification_report(Y_Test, Predicted_Model))\n",
    "    print('Confusion Matrix:')\n",
    "    print(confusion_matrix(Y_Test, Predicted_Model))    "
   ]
  },
  {
   "cell_type": "code",
   "execution_count": 28,
   "id": "49b5bd39",
   "metadata": {
    "execution": {
     "iopub.execute_input": "2021-09-05T02:36:42.013421Z",
     "iopub.status.busy": "2021-09-05T02:36:42.012647Z",
     "iopub.status.idle": "2021-09-05T02:36:42.257788Z",
     "shell.execute_reply": "2021-09-05T02:36:42.258834Z",
     "shell.execute_reply.started": "2021-09-05T02:14:02.321698Z"
    },
    "papermill": {
     "duration": 0.30966,
     "end_time": "2021-09-05T02:36:42.259110",
     "exception": false,
     "start_time": "2021-09-05T02:36:41.949450",
     "status": "completed"
    },
    "tags": []
   },
   "outputs": [
    {
     "name": "stdout",
     "output_type": "stream",
     "text": [
      "Accuracy on Train: 0.757\n",
      "Accuracy on Test : 0.758\n",
      "              precision    recall  f1-score   support\n",
      "\n",
      "           0       0.92      0.74      0.82      3429\n",
      "           1       0.49      0.80      0.61      1071\n",
      "\n",
      "    accuracy                           0.76      4500\n",
      "   macro avg       0.71      0.77      0.72      4500\n",
      "weighted avg       0.82      0.76      0.77      4500\n",
      "\n",
      "Confusion Matrix:\n",
      "[[2550  879]\n",
      " [ 210  861]]\n"
     ]
    }
   ],
   "source": [
    "from sklearn.linear_model import LogisticRegression\n",
    "from sklearn.metrics import accuracy_score\n",
    "from sklearn.metrics import classification_report #Metrics\n",
    "from sklearn.metrics import confusion_matrix #Metrics\n",
    "from sklearn.metrics import accuracy_score #Metrics\n",
    "\n",
    "Model(LogisticRegression)"
   ]
  },
  {
   "cell_type": "code",
   "execution_count": 29,
   "id": "4db427ed",
   "metadata": {
    "execution": {
     "iopub.execute_input": "2021-09-05T02:36:42.411443Z",
     "iopub.status.busy": "2021-09-05T02:36:42.410703Z",
     "iopub.status.idle": "2021-09-05T02:36:43.729249Z",
     "shell.execute_reply": "2021-09-05T02:36:43.729772Z",
     "shell.execute_reply.started": "2021-09-05T02:14:15.544745Z"
    },
    "papermill": {
     "duration": 1.380633,
     "end_time": "2021-09-05T02:36:43.729955",
     "exception": false,
     "start_time": "2021-09-05T02:36:42.349322",
     "status": "completed"
    },
    "tags": []
   },
   "outputs": [
    {
     "name": "stdout",
     "output_type": "stream",
     "text": [
      "Accuracy on Train: 1.000\n",
      "Accuracy on Test : 0.990\n",
      "              precision    recall  f1-score   support\n",
      "\n",
      "           0       0.99      1.00      0.99      3429\n",
      "           1       0.99      0.96      0.98      1071\n",
      "\n",
      "    accuracy                           0.99      4500\n",
      "   macro avg       0.99      0.98      0.99      4500\n",
      "weighted avg       0.99      0.99      0.99      4500\n",
      "\n",
      "Confusion Matrix:\n",
      "[[3422    7]\n",
      " [  39 1032]]\n"
     ]
    }
   ],
   "source": [
    "from sklearn.ensemble import RandomForestClassifier\n",
    "\n",
    "Model(RandomForestClassifier)"
   ]
  },
  {
   "cell_type": "code",
   "execution_count": 30,
   "id": "c0600c2c",
   "metadata": {
    "execution": {
     "iopub.execute_input": "2021-09-05T02:36:43.846462Z",
     "iopub.status.busy": "2021-09-05T02:36:43.845472Z",
     "iopub.status.idle": "2021-09-05T02:36:48.178985Z",
     "shell.execute_reply": "2021-09-05T02:36:48.178309Z",
     "shell.execute_reply.started": "2021-09-05T02:14:36.196960Z"
    },
    "papermill": {
     "duration": 4.392915,
     "end_time": "2021-09-05T02:36:48.179126",
     "exception": false,
     "start_time": "2021-09-05T02:36:43.786211",
     "status": "completed"
    },
    "tags": []
   },
   "outputs": [
    {
     "name": "stdout",
     "output_type": "stream",
     "text": [
      "Accuracy on Train: 0.940\n",
      "Accuracy on Test : 0.930\n",
      "              precision    recall  f1-score   support\n",
      "\n",
      "           0       0.97      0.93      0.95      3429\n",
      "           1       0.81      0.92      0.86      1071\n",
      "\n",
      "    accuracy                           0.93      4500\n",
      "   macro avg       0.89      0.93      0.91      4500\n",
      "weighted avg       0.94      0.93      0.93      4500\n",
      "\n",
      "Confusion Matrix:\n",
      "[[3206  223]\n",
      " [  90  981]]\n"
     ]
    }
   ],
   "source": [
    "from sklearn.svm import SVC\n",
    "\n",
    "Model(SVC)"
   ]
  },
  {
   "cell_type": "code",
   "execution_count": null,
   "id": "8675335a",
   "metadata": {
    "papermill": {
     "duration": 0.056021,
     "end_time": "2021-09-05T02:36:48.291468",
     "exception": false,
     "start_time": "2021-09-05T02:36:48.235447",
     "status": "completed"
    },
    "tags": []
   },
   "outputs": [],
   "source": []
  }
 ],
 "metadata": {
  "kernelspec": {
   "display_name": "Python 3",
   "language": "python",
   "name": "python3"
  },
  "language_info": {
   "codemirror_mode": {
    "name": "ipython",
    "version": 3
   },
   "file_extension": ".py",
   "mimetype": "text/x-python",
   "name": "python",
   "nbconvert_exporter": "python",
   "pygments_lexer": "ipython3",
   "version": "3.7.10"
  },
  "papermill": {
   "default_parameters": {},
   "duration": 49.826049,
   "end_time": "2021-09-05T02:36:49.259496",
   "environment_variables": {},
   "exception": null,
   "input_path": "__notebook__.ipynb",
   "output_path": "__notebook__.ipynb",
   "parameters": {},
   "start_time": "2021-09-05T02:35:59.433447",
   "version": "2.3.3"
  }
 },
 "nbformat": 4,
 "nbformat_minor": 5
}
